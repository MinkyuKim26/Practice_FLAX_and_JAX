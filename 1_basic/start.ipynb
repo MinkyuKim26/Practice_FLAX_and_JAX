{
 "cells": [
  {
   "cell_type": "code",
   "execution_count": 1,
   "metadata": {},
   "outputs": [
    {
     "name": "stdout",
     "output_type": "stream",
     "text": [
      "Using jax 0.4.23\n"
     ]
    }
   ],
   "source": [
    "import jax\n",
    "import jax.numpy as jnp\n",
    "print(\"Using jax\", jax.__version__)"
   ]
  },
  {
   "cell_type": "code",
   "execution_count": 2,
   "metadata": {},
   "outputs": [],
   "source": [
    "# create tensor that consists of zero \n",
    "a = jnp.zeros((1,3))"
   ]
  },
  {
   "cell_type": "code",
   "execution_count": 3,
   "metadata": {},
   "outputs": [
    {
     "name": "stdout",
     "output_type": "stream",
     "text": [
      "[[0. 0. 0.]] float32\n",
      "[[0 0 0]] int32\n"
     ]
    }
   ],
   "source": [
    "print(a, a.dtype)\n",
    "\n",
    "# change the dtype\n",
    "a = a.astype(jnp.int32)\n",
    "print(a, a.dtype)"
   ]
  },
  {
   "cell_type": "code",
   "execution_count": 4,
   "metadata": {},
   "outputs": [
    {
     "name": "stdout",
     "output_type": "stream",
     "text": [
      "{cuda(id=0)}\n"
     ]
    }
   ],
   "source": [
    "# check the device\n",
    "# the array a is already natively on a GPU although we did not specify this explicitly as you would do in PyTorch\n",
    "print(a.devices())"
   ]
  },
  {
   "cell_type": "code",
   "execution_count": 5,
   "metadata": {},
   "outputs": [
    {
     "name": "stdout",
     "output_type": "stream",
     "text": [
      "<class 'numpy.ndarray'>\n",
      "Device put: <class 'jaxlib.xla_extension.ArrayImpl'> on {cuda(id=0)}\n"
     ]
    }
   ],
   "source": [
    "# jax.device_get: DeviceArray -> numpy array\n",
    "# jax.device_put: numpy array -> DeviceArray\n",
    "a_cpu = jax.device_get(a)\n",
    "print(a_cpu.__class__)\n",
    "\n",
    "a_gpu = jax.device_put(a_cpu)\n",
    "print(f'Device put: {a_gpu.__class__} on {a_gpu.devices()}')"
   ]
  },
  {
   "cell_type": "code",
   "execution_count": 11,
   "metadata": {},
   "outputs": [
    {
     "name": "stdout",
     "output_type": "stream",
     "text": [
      "<class 'jaxlib.xla_extension.ArrayImpl'> {cuda(id=0)}\n"
     ]
    }
   ],
   "source": [
    "# numpy array + DeviceArray = DeviceArray\n",
    "# We can operate between tensors that are on difference devices when using JAX\n",
    "print((a_cpu + a_gpu).__class__, (a_cpu + a_gpu).devices())"
   ]
  },
  {
   "cell_type": "code",
   "execution_count": null,
   "metadata": {},
   "outputs": [],
   "source": []
  }
 ],
 "metadata": {
  "kernelspec": {
   "display_name": "Python 3",
   "language": "python",
   "name": "python3"
  },
  "language_info": {
   "codemirror_mode": {
    "name": "ipython",
    "version": 3
   },
   "file_extension": ".py",
   "mimetype": "text/x-python",
   "name": "python",
   "nbconvert_exporter": "python",
   "pygments_lexer": "ipython3",
   "version": "3.10.4"
  }
 },
 "nbformat": 4,
 "nbformat_minor": 2
}
